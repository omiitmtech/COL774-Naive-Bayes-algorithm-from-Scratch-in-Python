{
 "cells": [
  {
   "cell_type": "code",
   "execution_count": null,
   "metadata": {},
   "outputs": [],
   "source": [
    "import pandas as pd\n",
    "import numpy as np\n",
    "import cvxopt\n",
    "from cvxopt import matrix\n",
    "from cvxopt import solvers\n",
    "from tqdm import tqdm\n",
    "from libsvm import svmutil\n",
    "import time\n",
    "import csv\n",
    "from sklearn.metrics import confusion_matrix\n",
    "from sklearn.svm import SVC\n",
    "from libsvm import svmutil\n",
    "from sklearn import svm\n",
    "from sklearn.model_selection import cross_val_score"
   ]
  },
  {
   "cell_type": "code",
   "execution_count": null,
   "metadata": {},
   "outputs": [],
   "source": [
    "#paramters\n",
    "\n",
    "p1 = \"fashion_mnist/train.csv\" #training file\n",
    "p2 = \"fashion_mnist/test.csv\"  #testing file\n",
    "p3 = \"fashion_mnist/val.csv\"  #validation file"
   ]
  },
  {
   "cell_type": "code",
   "execution_count": null,
   "metadata": {},
   "outputs": [],
   "source": [
    "def read_data(p1,i,j):\n",
    "    df_train_data = pd.read_csv(p1,encoding='latin-1', header=None)\n",
    "    XY_train_78 = df_train_data[(df_train_data[784]==i) | (df_train_data[784]==j)]\n",
    "    XY_train_78 = XY_train_78.reset_index(drop=True)\n",
    "    XY_train_78.loc[XY_train_78[784] == i,784] = -1\n",
    "    XY_train_78.loc[XY_train_78[784] == j,784] = 1\n",
    "    XY_train = np.array(XY_train_78)\n",
    "    X_train = XY_train[:,0:784]\n",
    "    Y_train = XY_train[:,784:785]\n",
    "    X_train_scaled = X_train/255\n",
    "    \n",
    "    return X_train_scaled,Y_train"
   ]
  },
  {
   "cell_type": "code",
   "execution_count": null,
   "metadata": {},
   "outputs": [],
   "source": [
    "m=0\n",
    "n=0"
   ]
  },
  {
   "cell_type": "code",
   "execution_count": null,
   "metadata": {},
   "outputs": [],
   "source": [
    "def cal_k(x1):\n",
    "    K = np.zeros((m,m))\n",
    "    for i in tqdm(range(m)):\n",
    "        for j in range(m):\n",
    "            temp1 = np.linalg.norm(x1[i] - x1[j])\n",
    "            temp2 = temp1**2\n",
    "#             temp2 = temp1\n",
    "            temp2 = 0.05*temp2\n",
    "            temp2 = - temp2\n",
    "            temp3 = np.exp(temp2)\n",
    "            K[i][j] = temp3\n",
    "    return K"
   ]
  },
  {
   "cell_type": "code",
   "execution_count": null,
   "metadata": {},
   "outputs": [],
   "source": [
    "def calc_params(x1,y1):\n",
    "    C = 1\n",
    "    y_mat = np.dot(y1,y1.T)\n",
    "    K = cal_k(x1)\n",
    "    print('shape of K',K.shape)\n",
    "    \n",
    "    H = y_mat*K*1.\n",
    "    \n",
    "    P = matrix(H)\n",
    "    q = matrix(-np.ones((m, 1)))\n",
    "    t1 = np.eye(m)\n",
    "    t2 = (-1)*np.eye(m)\n",
    "    G = matrix(np.vstack((t2,t1)))\n",
    "    m_zeros = np.zeros(m)\n",
    "    m_ones = np.ones(m)\n",
    "    m_onesc = m_ones*C\n",
    "    h_npstack = np.hstack((m_zeros, m_onesc))\n",
    "    h = matrix(h_npstack)\n",
    "    A = matrix(y1.reshape(1, -1))\n",
    "    b = matrix(np.zeros(1))\n",
    "    \n",
    "    return P, q, G, h, A, b"
   ]
  },
  {
   "cell_type": "code",
   "execution_count": null,
   "metadata": {},
   "outputs": [],
   "source": [
    "def cal_alphas():\n",
    "    P, q, G, h, A, b = calc_params(x1,y1)\n",
    "    sol = cvxopt.solvers.qp(P, q, G, h, A, b) \n",
    "    return np.array(sol['x'])"
   ]
  },
  {
   "cell_type": "code",
   "execution_count": null,
   "metadata": {},
   "outputs": [],
   "source": [
    "def calc_nonzero_alphas(alphas_param):\n",
    "    nonzero_alphas_list = []\n",
    "    support_vectors = 0\n",
    "    for i in alphas_param:\n",
    "        if i > 1e-5 :\n",
    "            nonzero_alphas_list.append(i)\n",
    "            support_vectors +=1\n",
    "        else :\n",
    "            nonzero_alphas_list.append(0)\n",
    "    print('No. of Support vectors :',support_vectors)\n",
    "    return np.array(nonzero_alphas_list)"
   ]
  },
  {
   "cell_type": "code",
   "execution_count": null,
   "metadata": {},
   "outputs": [],
   "source": [
    "def cal_b(alpha_vlaues):\n",
    "    for i in tqdm(range(m)):\n",
    "        if alpha_vlaues[i]!=0:\n",
    "            sum_val = 0\n",
    "            for j in range(m):      \n",
    "                t1 = alphas[j][0]*y1[j][0]\n",
    "                t2 = np.linalg.norm(x1[i]-x1[j])\n",
    "                t2 = t2**2\n",
    "                t3 = -0.05*t2\n",
    "                t4 = np.exp(t3)\n",
    "                t5  =t1*t4\n",
    "                sum_val = sum_val + t5\n",
    "            alpha_vlaues[i] = y1[i][0] - sum_val\n",
    "\n",
    "    return sum(alpha_vlaues)/np.count_nonzero(alpha_vlaues)\n"
   ]
  },
  {
   "cell_type": "code",
   "execution_count": null,
   "metadata": {
    "scrolled": false
   },
   "outputs": [],
   "source": [
    "b_list = []\n",
    "for i in range(9):\n",
    "    for j in range(i+1,10):\n",
    "        x1,y1 = read_data(p1,i,j)\n",
    "        m,n= x1.shape\n",
    "        P, q, G, h, A, b = calc_params(x1,y1)\n",
    "        sol = cvxopt.solvers.qp(P, q, G, h, A, b)\n",
    "        alphas = np.array(sol['x'])\n",
    "        alphas_reshape = alphas.reshape(m,)\n",
    "        alpha_vlaues = calc_nonzero_alphas(alphas_reshape)\n",
    "        finalb = cal_b(alpha_vlaues)\n",
    "        print('value of b :',finalb)\n",
    "        b_list.append(finalb)\n",
    "print(b_list)"
   ]
  },
  {
   "cell_type": "code",
   "execution_count": null,
   "metadata": {
    "scrolled": true
   },
   "outputs": [],
   "source": [
    "b_list[0]"
   ]
  },
  {
   "cell_type": "code",
   "execution_count": null,
   "metadata": {},
   "outputs": [],
   "source": [
    "def cal_accuracy(xtest,ytest):\n",
    "    pred_list = []\n",
    "    crct_cases=0\n",
    "    n = len(xtest)\n",
    "    alphasy1 = alphas.flatten()*y1.flatten()\n",
    "    for i in tqdm(range(n)):\n",
    "        neg=0\n",
    "        pos = 0\n",
    "        pred_val_list = []\n",
    "        a1 = xtest[i]\n",
    "        Kt = np.zeros(m)\n",
    "        for i in range(m):\n",
    "            t1 = np.linalg.norm(x1[i]-a1)\n",
    "            t2 = t1**2\n",
    "            Kt[i] = np.exp(-0.05*t2)\n",
    "        \n",
    "        pred_val_temp = np.matmul(alphasy1,Kt.T)\n",
    "        \n",
    "        for k in range(45):\n",
    "            res = pred_val_temp + b_list[k]\n",
    "            if res < 0:\n",
    "                neg +=1\n",
    "            elif res > 0:\n",
    "                pos +=1\n",
    "        \n",
    "        if neg > pos:\n",
    "            pred_list.append(-1)\n",
    "\n",
    "        if pos  > neg:\n",
    "            pred_list.append(1)\n",
    "            \n",
    "    \n",
    "    for i in tqdm(range(n)):\n",
    "        if ytest[i] == pred_list[i]:\n",
    "            crct_cases +=1\n",
    "    print('correct cases :',crct_cases)\n",
    "    print('total test examples :',n)\n",
    "    return crct_cases/n"
   ]
  },
  {
   "cell_type": "code",
   "execution_count": null,
   "metadata": {
    "scrolled": true
   },
   "outputs": [],
   "source": [
    "for i in range(9):\n",
    "    for j in range(i+1,10):\n",
    "        xtest,ytest = read_data(p2,i,j)\n",
    "        print('Accuracy on test data :',cal_accuracy(xtest,ytest)*100,'%')"
   ]
  },
  {
   "cell_type": "code",
   "execution_count": null,
   "metadata": {},
   "outputs": [],
   "source": [
    "xval,yval = read_data(p3)\n",
    "print('Accuracy on validation data :',cal_accuracy(xval,yval)*100,'%')"
   ]
  }
 ],
 "metadata": {
  "kernelspec": {
   "display_name": "Python 3",
   "language": "python",
   "name": "python3"
  },
  "language_info": {
   "codemirror_mode": {
    "name": "ipython",
    "version": 3
   },
   "file_extension": ".py",
   "mimetype": "text/x-python",
   "name": "python",
   "nbconvert_exporter": "python",
   "pygments_lexer": "ipython3",
   "version": "3.7.4"
  }
 },
 "nbformat": 4,
 "nbformat_minor": 2
}
