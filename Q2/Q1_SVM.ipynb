{
 "cells": [
  {
   "cell_type": "code",
   "execution_count": 1,
   "metadata": {},
   "outputs": [],
   "source": [
    "import pandas as pd\n",
    "import numpy as np\n",
    "import cvxopt\n",
    "from cvxopt import matrix\n",
    "from cvxopt import solvers\n",
    "from tqdm import tqdm\n",
    "from libsvm import svmutil\n",
    "import time\n",
    "import csv\n",
    "import sys "
   ]
  },
  {
   "cell_type": "code",
   "execution_count": 3,
   "metadata": {},
   "outputs": [],
   "source": [
    "#paramters\n",
    "# p1 = sys.argv[1] #training file\n",
    "# p2 = sys.argv[2]  #testing file\n",
    "# p3 = sys.argv[3]  #validation file\n",
    "\n",
    "p1 = \"fashion_mnist/train.csv\" #training file\n",
    "p2 = \"fashion_mnist/test.csv\"  #testing file\n",
    "p3 = \"fashion_mnist/val.csv\"  #validation file"
   ]
  },
  {
   "cell_type": "code",
   "execution_count": 4,
   "metadata": {},
   "outputs": [],
   "source": [
    "def read_data(p1):\n",
    "    df_train_data = pd.read_csv(p1,encoding='latin-1', header=None)\n",
    "    XY_train_78 = df_train_data[(df_train_data[784]==7) | (df_train_data[784]==8)]\n",
    "    XY_train_78 = XY_train_78.reset_index(drop=True)\n",
    "    XY_train_78.loc[XY_train_78[784] == 7,784] = -1\n",
    "    XY_train_78.loc[XY_train_78[784] == 8,784] = 1\n",
    "    XY_train = np.array(XY_train_78)\n",
    "    X_train = XY_train[:,0:784]\n",
    "    Y_train = XY_train[:,784:785]\n",
    "    X_train_scaled = X_train/255\n",
    "    \n",
    "    return X_train_scaled,Y_train"
   ]
  },
  {
   "cell_type": "code",
   "execution_count": 5,
   "metadata": {},
   "outputs": [
    {
     "name": "stdout",
     "output_type": "stream",
     "text": [
      "shape of x1 : (4500, 784)\n",
      "shape of y1 : (4500, 1)\n"
     ]
    }
   ],
   "source": [
    "x1,y1 = read_data(p1)\n",
    "m,n= x1.shape\n",
    "print('shape of x1 :',x1.shape)\n",
    "print('shape of y1 :',y1.shape)"
   ]
  },
  {
   "cell_type": "code",
   "execution_count": 6,
   "metadata": {},
   "outputs": [],
   "source": [
    "def calc_params(x1,y1):\n",
    "    C = 1\n",
    "    y1 = y1.reshape(-1,1) * 1. #transpose of y1\n",
    "    xprime = y1*x1\n",
    "    H = np.dot(xprime , xprime.T) * 1.\n",
    "    P = matrix(H)\n",
    "    q = matrix(-np.ones((m, 1)))\n",
    "    \n",
    "    G = matrix(np.vstack((np.eye(m)*(-1),np.eye(m))))\n",
    "    m_zeros = np.zeros(m)\n",
    "    m_ones = np.ones(m)\n",
    "    m_onesc = m_ones*C\n",
    "    h_npstack = np.hstack((m_zeros, m_onesc))\n",
    "    h = matrix(h_npstack)\n",
    "    A = matrix(y1.reshape(1, -1)) #Taking Transpose\n",
    "    b = matrix(np.zeros(1))\n",
    "    \n",
    "    return P, q, G, h, A, b"
   ]
  },
  {
   "cell_type": "code",
   "execution_count": 7,
   "metadata": {},
   "outputs": [],
   "source": [
    "def cal_alphas():\n",
    "    P, q, G, h, A, b = calc_params(x1,y1)\n",
    "    sol = cvxopt.solvers.qp(P, q, G, h, A, b) \n",
    "    return np.array(sol['x'])"
   ]
  },
  {
   "cell_type": "code",
   "execution_count": 8,
   "metadata": {},
   "outputs": [
    {
     "name": "stdout",
     "output_type": "stream",
     "text": [
      "     pcost       dcost       gap    pres   dres\n",
      " 0: -2.7623e+02 -8.1486e+03  4e+04  2e+00  1e-12\n",
      " 1: -1.6140e+02 -4.2598e+03  8e+03  3e-01  1e-12\n",
      " 2: -6.2334e+01 -1.3223e+03  2e+03  8e-02  7e-13\n",
      " 3: -2.6770e+01 -5.4298e+02  9e+02  3e-02  3e-13\n",
      " 4: -8.0943e+00 -1.9515e+02  3e+02  9e-03  2e-13\n",
      " 5: -3.4995e+00 -5.8620e+01  8e+01  2e-03  8e-14\n",
      " 6: -2.3301e+00 -2.2989e+01  3e+01  7e-04  5e-14\n",
      " 7: -2.1706e+00 -9.7873e+00  1e+01  2e-04  4e-14\n",
      " 8: -2.3624e+00 -4.8192e+00  2e+00  4e-06  5e-14\n",
      " 9: -2.7422e+00 -4.0608e+00  1e+00  1e-06  4e-14\n",
      "10: -2.8879e+00 -3.7087e+00  8e-01  2e-16  5e-14\n",
      "11: -3.1124e+00 -3.3765e+00  3e-01  2e-16  4e-14\n",
      "12: -3.2011e+00 -3.2470e+00  5e-02  1e-15  5e-14\n",
      "13: -3.2221e+00 -3.2231e+00  9e-04  2e-15  5e-14\n",
      "14: -3.2226e+00 -3.2226e+00  2e-05  2e-16  5e-14\n",
      "15: -3.2226e+00 -3.2226e+00  2e-07  2e-15  5e-14\n",
      "Optimal solution found.\n",
      "\n",
      "\n",
      "Training time in seconds =  17.924562215805054\n"
     ]
    }
   ],
   "source": [
    "t1 = time.time()\n",
    "alphas = cal_alphas()\n",
    "print('\\n\\nTraining time in seconds = ',time.time()-t1)"
   ]
  },
  {
   "cell_type": "code",
   "execution_count": 9,
   "metadata": {},
   "outputs": [],
   "source": [
    "def calc_nonzero_alphas(alphas_param):\n",
    "    nonzero_alphas_list = []\n",
    "    support_vectors = 0\n",
    "    for i in alphas:\n",
    "        if i > 1e-5 :\n",
    "            nonzero_alphas_list.append(i)\n",
    "            support_vectors +=1\n",
    "        else :\n",
    "            nonzero_alphas_list.append(0)\n",
    "    print('No. of Support vectors :',support_vectors)\n",
    "    return nonzero_alphas_list"
   ]
  },
  {
   "cell_type": "code",
   "execution_count": 10,
   "metadata": {},
   "outputs": [],
   "source": [
    "alphas = alphas.reshape(m,)"
   ]
  },
  {
   "cell_type": "code",
   "execution_count": 11,
   "metadata": {},
   "outputs": [
    {
     "name": "stdout",
     "output_type": "stream",
     "text": [
      "No. of Support vectors : 120\n"
     ]
    }
   ],
   "source": [
    "#updating alpha values with 0 where alpha_i is < 1e-5\n",
    "#It prints the number of support vectors\n",
    "alpha_vlaues = calc_nonzero_alphas(alphas)"
   ]
  },
  {
   "cell_type": "code",
   "execution_count": 12,
   "metadata": {},
   "outputs": [],
   "source": [
    "#function which clculates w\n",
    "#w = sigmai=1 to m, alpha_i*y^(i)*x^(i)\n",
    "def calc_w(p_alpha_vals,p_x_vals,p_y_vals):\n",
    "    print('Shape of alpha values :',p_alpha_vals.shape)\n",
    "    print('Shape of x values :',p_x_vals.shape)\n",
    "    print('Shape of y values :',p_y_vals.shape)\n",
    "    p_alpha_vals = p_alpha_vals.reshape(m,1)\n",
    "    p_y_vals = p_y_vals.reshape(m,1)\n",
    "    mul_res = p_alpha_vals * p_y_vals * p_x_vals #alpha_i*y^(i)*x^(i)\n",
    "    w_val = np.sum(mul_res,axis=0) #rowwise sum\n",
    "    return w_val"
   ]
  },
  {
   "cell_type": "code",
   "execution_count": 13,
   "metadata": {},
   "outputs": [],
   "source": [
    "def cal_b_val():\n",
    "    min_val = 1000.0\n",
    "    max_val = - 1000.0\n",
    "    w = calc_w(alphas,x1,y1).reshape(n,1)\n",
    "    w_trans = np.transpose(w) #w_trans = 1x784\n",
    "    XY = np.hstack((x1,y1))\n",
    "    print(XY.shape)\n",
    "    for i in range(m):\n",
    "        if y1[i] == -1:\n",
    "            temp_val = x1[i].reshape(n,1)\n",
    "            mul = np.dot(w_trans,temp_val)\n",
    "            if mul > max_val:\n",
    "                max_val = mul\n",
    "        elif y1[i] == 1:\n",
    "            temp_val = x1[i].reshape(n,1)\n",
    "            mul = np.dot(w_trans,temp_val)\n",
    "            if mul < min_val:\n",
    "                min_val = mul\n",
    "    print('min val :',min_val)\n",
    "    print('max val :',max_val)\n",
    "    \n",
    "    return w_trans,-(max_val + min_val)/2"
   ]
  },
  {
   "cell_type": "code",
   "execution_count": 14,
   "metadata": {
    "scrolled": true
   },
   "outputs": [
    {
     "name": "stdout",
     "output_type": "stream",
     "text": [
      "Shape of alpha values : (4500,)\n",
      "Shape of x values : (4500, 784)\n",
      "Shape of y values : (4500, 1)\n",
      "(4500, 785)\n",
      "min val : [[1.9348673]]\n",
      "max val : [[-0.0651327]]\n"
     ]
    }
   ],
   "source": [
    "w_trans,b = cal_b_val()"
   ]
  },
  {
   "cell_type": "code",
   "execution_count": 26,
   "metadata": {},
   "outputs": [
    {
     "name": "stdout",
     "output_type": "stream",
     "text": [
      "The mean of W : 0.019834981507734047\n",
      "Value of b : [-0.9348673]\n"
     ]
    }
   ],
   "source": [
    "print('The mean of W :',np.mean(w_trans))\n",
    "print('Value of b :',b[0])"
   ]
  },
  {
   "cell_type": "code",
   "execution_count": 16,
   "metadata": {},
   "outputs": [],
   "source": [
    "def cal_accuracy(xtest,ytest):\n",
    "    n = len(xtest)\n",
    "    crct_cases = 0\n",
    "    pred_list = []\n",
    "    for i in tqdm(range(n)):\n",
    "        temp1 = xtest[i].reshape(784,1)\n",
    "        temp2 = np.dot(w_trans,temp1)\n",
    "        pred_val = temp2 + b\n",
    "        \n",
    "        if pred_val < 0 :\n",
    "                pred_list.append(-1)\n",
    "        elif pred_val > 0:\n",
    "                pred_list.append(1)\n",
    "                \n",
    "    for i in tqdm(range(n)):\n",
    "        if ytest[i] == pred_list[i]:\n",
    "            crct_cases +=1\n",
    "    print('correct cases :',crct_cases)\n",
    "    print('total test examples :',n)\n",
    "    return crct_cases/n   "
   ]
  },
  {
   "cell_type": "code",
   "execution_count": 17,
   "metadata": {},
   "outputs": [
    {
     "name": "stderr",
     "output_type": "stream",
     "text": [
      "100%|██████████| 1000/1000 [00:00<00:00, 171391.96it/s]\n",
      "100%|██████████| 1000/1000 [00:00<00:00, 825163.09it/s]"
     ]
    },
    {
     "name": "stdout",
     "output_type": "stream",
     "text": [
      "correct cases : 994\n",
      "total test examples : 1000\n",
      "Accuracy on test data : 99.4 %\n"
     ]
    },
    {
     "name": "stderr",
     "output_type": "stream",
     "text": [
      "\n"
     ]
    }
   ],
   "source": [
    "xtest,ytest = read_data(p2)\n",
    "print('Accuracy on test data :',cal_accuracy(xtest,ytest)*100,'%')"
   ]
  },
  {
   "cell_type": "code",
   "execution_count": 18,
   "metadata": {},
   "outputs": [
    {
     "name": "stderr",
     "output_type": "stream",
     "text": [
      "100%|██████████| 500/500 [00:00<00:00, 173634.05it/s]\n",
      "100%|██████████| 500/500 [00:00<00:00, 712832.09it/s]"
     ]
    },
    {
     "name": "stdout",
     "output_type": "stream",
     "text": [
      "correct cases : 496\n",
      "total test examples : 500\n",
      "Accuracy on validation data : 99.2 %\n"
     ]
    },
    {
     "name": "stderr",
     "output_type": "stream",
     "text": [
      "\n"
     ]
    }
   ],
   "source": [
    "xval,yval = read_data(p3)\n",
    "print('Accuracy on validation data :',cal_accuracy(xval,yval)*100,'%')"
   ]
  },
  {
   "cell_type": "code",
   "execution_count": 20,
   "metadata": {},
   "outputs": [
    {
     "name": "stderr",
     "output_type": "stream",
     "text": [
      "100%|██████████| 4500/4500 [00:00<00:00, 193285.90it/s]\n",
      "100%|██████████| 4500/4500 [00:00<00:00, 386817.40it/s]"
     ]
    },
    {
     "name": "stdout",
     "output_type": "stream",
     "text": [
      "correct cases : 4500\n",
      "total test examples : 4500\n",
      "Accuracy on training data : 100.0 %\n"
     ]
    },
    {
     "name": "stderr",
     "output_type": "stream",
     "text": [
      "\n"
     ]
    }
   ],
   "source": [
    "xtrain,ytrain = read_data(p1)\n",
    "print('Accuracy on training data :',cal_accuracy(xtrain,ytrain)*100,'%')"
   ]
  },
  {
   "cell_type": "code",
   "execution_count": null,
   "metadata": {},
   "outputs": [],
   "source": []
  }
 ],
 "metadata": {
  "kernelspec": {
   "display_name": "Python 3",
   "language": "python",
   "name": "python3"
  },
  "language_info": {
   "codemirror_mode": {
    "name": "ipython",
    "version": 3
   },
   "file_extension": ".py",
   "mimetype": "text/x-python",
   "name": "python",
   "nbconvert_exporter": "python",
   "pygments_lexer": "ipython3",
   "version": "3.7.4"
  }
 },
 "nbformat": 4,
 "nbformat_minor": 2
}
