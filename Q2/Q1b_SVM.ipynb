{
 "cells": [
  {
   "cell_type": "code",
   "execution_count": 1,
   "metadata": {},
   "outputs": [],
   "source": [
    "import pandas as pd\n",
    "import numpy as np\n",
    "import cvxopt\n",
    "from cvxopt import matrix\n",
    "from cvxopt import solvers\n",
    "from tqdm import tqdm\n",
    "from libsvm import svmutil\n",
    "import time\n",
    "import csv\n",
    "from sklearn.metrics import confusion_matrix\n",
    "from sklearn.svm import SVC\n",
    "from libsvm import svmutil\n",
    "from sklearn import svm\n",
    "from sklearn.model_selection import cross_val_score"
   ]
  },
  {
   "cell_type": "code",
   "execution_count": 2,
   "metadata": {},
   "outputs": [],
   "source": [
    "#paramters\n",
    "\n",
    "p1 = \"fashion_mnist/train.csv\" #training file\n",
    "p2 = \"fashion_mnist/test.csv\"  #testing file\n",
    "p3 = \"fashion_mnist/val.csv\"  #validation file"
   ]
  },
  {
   "cell_type": "code",
   "execution_count": 3,
   "metadata": {},
   "outputs": [],
   "source": [
    "def read_data(p1):\n",
    "    df_train_data = pd.read_csv(p1,encoding='latin-1', header=None)\n",
    "    XY_train_78 = df_train_data[(df_train_data[784]==7) | (df_train_data[784]==8)]\n",
    "    XY_train_78 = XY_train_78.reset_index(drop=True)\n",
    "    XY_train_78.loc[XY_train_78[784] == 7,784] = -1\n",
    "    XY_train_78.loc[XY_train_78[784] == 8,784] = 1\n",
    "    XY_train = np.array(XY_train_78)\n",
    "    X_train = XY_train[:,0:784]\n",
    "    Y_train = XY_train[:,784:785]\n",
    "    X_train_scaled = X_train/255\n",
    "    \n",
    "    return X_train_scaled,Y_train"
   ]
  },
  {
   "cell_type": "code",
   "execution_count": 4,
   "metadata": {},
   "outputs": [],
   "source": [
    "def read_data_nofilter(p1):\n",
    "    df_train_data = np.array(pd.read_csv(p1,encoding='latin-1', header=None))\n",
    "    X_train = df_train_data[:,0:784]\n",
    "    Y_train = df_train_data[:,784:785]\n",
    "    X_train_scaled = X_train/255\n",
    "    \n",
    "    return X_train_scaled,Y_train"
   ]
  },
  {
   "cell_type": "code",
   "execution_count": 5,
   "metadata": {},
   "outputs": [
    {
     "name": "stdout",
     "output_type": "stream",
     "text": [
      "shape of x1 : (4500, 784)\n",
      "shape of y1 : (4500, 1)\n"
     ]
    }
   ],
   "source": [
    "x1,y1 = read_data(p1)\n",
    "m,n= x1.shape\n",
    "print('shape of x1 :',x1.shape)\n",
    "print('shape of y1 :',y1.shape)"
   ]
  },
  {
   "cell_type": "code",
   "execution_count": 6,
   "metadata": {},
   "outputs": [],
   "source": [
    "def cal_k(x1):\n",
    "    K = np.zeros((m,m))\n",
    "    for i in tqdm(range(m)):\n",
    "        for j in range(m):\n",
    "            temp1 = np.linalg.norm(x1[i] - x1[j])\n",
    "            temp2 = temp1**2\n",
    "#             temp2 = temp1\n",
    "            temp2 = 0.05*temp2\n",
    "            temp2 = - temp2\n",
    "            temp3 = np.exp(temp2)\n",
    "            K[i][j] = temp3\n",
    "    return K"
   ]
  },
  {
   "cell_type": "code",
   "execution_count": 33,
   "metadata": {},
   "outputs": [],
   "source": [
    "def calc_params(x1,y1):\n",
    "    C = 1\n",
    "    y_mat = np.dot(y1,y1.T)\n",
    "    K = cal_k(x1)\n",
    "    print('shape of K',K.shape)\n",
    "    \n",
    "    H = y_mat*K*1.\n",
    "    \n",
    "    P = matrix(H)\n",
    "    q = matrix(-np.ones((m, 1)))\n",
    "    t1 = np.eye(m)\n",
    "    t2 = (-1)*np.eye(m)\n",
    "    G = matrix(np.vstack((t2,t1)))\n",
    "    m_zeros = np.zeros(m)\n",
    "    m_ones = np.ones(m)\n",
    "    m_onesc = m_ones*C\n",
    "    h_npstack = np.hstack((m_zeros, m_onesc))\n",
    "    h = matrix(h_npstack)\n",
    "    A = matrix(y1.reshape(1, -1))\n",
    "    b = matrix(np.zeros(1))\n",
    "    \n",
    "    return P, q, G, h, A, b"
   ]
  },
  {
   "cell_type": "code",
   "execution_count": 34,
   "metadata": {},
   "outputs": [],
   "source": [
    "def cal_alphas():\n",
    "    P, q, G, h, A, b = calc_params(x1,y1)\n",
    "    sol = cvxopt.solvers.qp(P, q, G, h, A, b) \n",
    "    return np.array(sol['x'])"
   ]
  },
  {
   "cell_type": "code",
   "execution_count": 9,
   "metadata": {
    "scrolled": true
   },
   "outputs": [
    {
     "name": "stderr",
     "output_type": "stream",
     "text": [
      "100%|██████████| 4500/4500 [03:28<00:00, 21.62it/s]\n"
     ]
    },
    {
     "name": "stdout",
     "output_type": "stream",
     "text": [
      "shape of K (4500, 4500)\n",
      "     pcost       dcost       gap    pres   dres\n",
      " 0: -1.4021e+02 -7.5807e+03  4e+04  2e+00  2e-15\n",
      " 1: -7.7474e+01 -3.9413e+03  7e+03  3e-01  2e-15\n",
      " 2: -3.7302e+01 -1.0367e+03  1e+03  4e-02  5e-15\n",
      " 3: -7.4177e+01 -2.7628e+02  2e+02  6e-03  3e-15\n",
      " 4: -9.3886e+01 -1.5833e+02  7e+01  1e-03  2e-15\n",
      " 5: -1.0307e+02 -1.2356e+02  2e+01  3e-04  1e-15\n",
      " 6: -1.0675e+02 -1.1333e+02  7e+00  5e-05  1e-15\n",
      " 7: -1.0821e+02 -1.0986e+02  2e+00  6e-06  1e-15\n",
      " 8: -1.0865e+02 -1.0897e+02  3e-01  7e-07  1e-15\n",
      " 9: -1.0875e+02 -1.0879e+02  4e-02  6e-08  1e-15\n",
      "10: -1.0876e+02 -1.0876e+02  1e-03  1e-09  2e-15\n",
      "11: -1.0876e+02 -1.0876e+02  2e-05  2e-11  2e-15\n",
      "Optimal solution found.\n",
      "Time to calculare alphas in seconds =  229.50530457496643\n"
     ]
    }
   ],
   "source": [
    "t0 = time.time()\n",
    "alphas = cal_alphas()\n",
    "print('Time to calculare alphas in seconds = ',time.time()-t0)"
   ]
  },
  {
   "cell_type": "code",
   "execution_count": 10,
   "metadata": {},
   "outputs": [],
   "source": [
    "def calc_nonzero_alphas(alphas_param):\n",
    "    nonzero_alphas_list = []\n",
    "    support_vectors = 0\n",
    "    for i in alphas_param:\n",
    "        if i > 1e-5 :\n",
    "            nonzero_alphas_list.append(i)\n",
    "            support_vectors +=1\n",
    "        else :\n",
    "            nonzero_alphas_list.append(0)\n",
    "    print('No. of Support vectors :',support_vectors)\n",
    "    return np.array(nonzero_alphas_list)"
   ]
  },
  {
   "cell_type": "code",
   "execution_count": 11,
   "metadata": {},
   "outputs": [],
   "source": [
    "alphas_reshape = alphas.reshape(m,)"
   ]
  },
  {
   "cell_type": "code",
   "execution_count": 12,
   "metadata": {},
   "outputs": [
    {
     "name": "stdout",
     "output_type": "stream",
     "text": [
      "No. of Support vectors : 1063\n"
     ]
    }
   ],
   "source": [
    "#updating alpha values with 0 where alpha_i is < 1e-5\n",
    "#It prints the number of support vectors\n",
    "alpha_vlaues = calc_nonzero_alphas(alphas_reshape)"
   ]
  },
  {
   "cell_type": "code",
   "execution_count": 13,
   "metadata": {},
   "outputs": [],
   "source": [
    "def cal_b(alpha_vlaues):\n",
    "    for i in tqdm(range(m)):\n",
    "        if alpha_vlaues[i]!=0:\n",
    "            sum_val = 0\n",
    "            for j in range(m):      \n",
    "                t1 = alphas[j][0]*y1[j][0]\n",
    "                t2 = np.linalg.norm(x1[i]-x1[j])\n",
    "                t2 = t2**2\n",
    "                t3 = -0.05*t2\n",
    "                t4 = np.exp(t3)\n",
    "                t5  =t1*t4\n",
    "                sum_val = sum_val + t5\n",
    "            alpha_vlaues[i] = y1[i][0] - sum_val\n",
    "\n",
    "    return sum(alpha_vlaues)/np.count_nonzero(alpha_vlaues)\n"
   ]
  },
  {
   "cell_type": "code",
   "execution_count": 14,
   "metadata": {
    "scrolled": false
   },
   "outputs": [
    {
     "name": "stderr",
     "output_type": "stream",
     "text": [
      "100%|██████████| 4500/4500 [00:51<00:00, 87.28it/s] "
     ]
    },
    {
     "name": "stdout",
     "output_type": "stream",
     "text": [
      "\n",
      "\n",
      "Training time in seconds =  51.565696001052856\n"
     ]
    },
    {
     "name": "stderr",
     "output_type": "stream",
     "text": [
      "\n"
     ]
    }
   ],
   "source": [
    "t0 = time.time()\n",
    "finalb = cal_b(alpha_vlaues)\n",
    "print('\\n\\nTraining time in seconds = ',time.time()-t0)"
   ]
  },
  {
   "cell_type": "code",
   "execution_count": 15,
   "metadata": {},
   "outputs": [],
   "source": [
    "def cal_accuracy(xtest,ytest):\n",
    "    pred_list = []\n",
    "    crct_cases=0\n",
    "    n = len(xtest)\n",
    "    alphasy1 = alphas.flatten()*y1.flatten()\n",
    "    for i in tqdm(range(n)):\n",
    "        a1 = xtest[i]\n",
    "        Kt = np.zeros(m)\n",
    "        for i in range(m):\n",
    "            t1 = np.linalg.norm(x1[i]-a1)\n",
    "            t2 = t1**2\n",
    "            Kt[i] = np.exp(-0.05*t2)\n",
    "        \n",
    "        pred_val = np.matmul(alphasy1,Kt.T)+finalb\n",
    "        if pred_val < 0:\n",
    "            pred_list.append(-1)\n",
    "\n",
    "        if pred_val > 0:\n",
    "            pred_list.append(1)\n",
    "    \n",
    "    for i in tqdm(range(n)):\n",
    "        if ytest[i] == pred_list[i]:\n",
    "            crct_cases +=1\n",
    "    print('correct cases :',crct_cases)\n",
    "    print('total test examples :',n)\n",
    "    return crct_cases/n"
   ]
  },
  {
   "cell_type": "code",
   "execution_count": 16,
   "metadata": {},
   "outputs": [
    {
     "name": "stderr",
     "output_type": "stream",
     "text": [
      "100%|██████████| 1000/1000 [00:51<00:00, 19.25it/s]\n",
      "100%|██████████| 1000/1000 [00:00<00:00, 480722.52it/s]"
     ]
    },
    {
     "name": "stdout",
     "output_type": "stream",
     "text": [
      "correct cases : 995\n",
      "total test examples : 1000\n",
      "Accuracy on test data : 99.5 %\n"
     ]
    },
    {
     "name": "stderr",
     "output_type": "stream",
     "text": [
      "\n"
     ]
    }
   ],
   "source": [
    "xtest,ytest = read_data(p2)\n",
    "print('Accuracy on test data :',cal_accuracy(xtest,ytest)*100,'%')"
   ]
  },
  {
   "cell_type": "code",
   "execution_count": 17,
   "metadata": {},
   "outputs": [
    {
     "name": "stderr",
     "output_type": "stream",
     "text": [
      "100%|██████████| 500/500 [00:23<00:00, 21.60it/s]\n",
      "100%|██████████| 500/500 [00:00<00:00, 572523.07it/s]"
     ]
    },
    {
     "name": "stdout",
     "output_type": "stream",
     "text": [
      "correct cases : 493\n",
      "total test examples : 500\n",
      "Accuracy on validation data : 98.6 %\n"
     ]
    },
    {
     "name": "stderr",
     "output_type": "stream",
     "text": [
      "\n"
     ]
    }
   ],
   "source": [
    "xval,yval = read_data(p3)\n",
    "print('Accuracy on validation data :',cal_accuracy(xval,yval)*100,'%')"
   ]
  },
  {
   "cell_type": "code",
   "execution_count": 18,
   "metadata": {},
   "outputs": [
    {
     "name": "stderr",
     "output_type": "stream",
     "text": [
      "100%|██████████| 4500/4500 [03:24<00:00, 22.03it/s]\n",
      "100%|██████████| 4500/4500 [00:00<00:00, 796252.45it/s]"
     ]
    },
    {
     "name": "stdout",
     "output_type": "stream",
     "text": [
      "correct cases : 4500\n",
      "total test examples : 4500\n",
      "Accuracy on test data : 100.0 %\n"
     ]
    },
    {
     "name": "stderr",
     "output_type": "stream",
     "text": [
      "\n"
     ]
    }
   ],
   "source": [
    "xtrain,ytrain = read_data(p1)\n",
    "print('Accuracy on test data :',cal_accuracy(xtrain,ytrain)*100,'%')"
   ]
  },
  {
   "cell_type": "markdown",
   "metadata": {},
   "source": [
    "#Part_B_Q1.C"
   ]
  },
  {
   "cell_type": "code",
   "execution_count": 19,
   "metadata": {},
   "outputs": [],
   "source": [
    "xtrain,ytrain = read_data(p1)\n",
    "ytrain = ytrain.reshape(m,)\n",
    "linear_model = SVC(kernel='linear')"
   ]
  },
  {
   "cell_type": "code",
   "execution_count": 20,
   "metadata": {
    "scrolled": true
   },
   "outputs": [
    {
     "name": "stdout",
     "output_type": "stream",
     "text": [
      "628 ms ± 43.6 ms per loop (mean ± std. dev. of 7 runs, 1 loop each)\n"
     ]
    }
   ],
   "source": [
    "%%timeit\n",
    "linear_model.fit(xtrain, ytrain)"
   ]
  },
  {
   "cell_type": "code",
   "execution_count": 21,
   "metadata": {},
   "outputs": [],
   "source": [
    "xtest,ytest = read_data(p2)\n",
    "xval,yval = read_data(p3)"
   ]
  },
  {
   "cell_type": "code",
   "execution_count": 22,
   "metadata": {
    "scrolled": true
   },
   "outputs": [
    {
     "name": "stdout",
     "output_type": "stream",
     "text": [
      "Mean of W of the linear SVM Model : 0.019834433262008663\n",
      "b value of the linear SVM Model : -0.9348381492157227\n",
      "No. of support vectors of the linear SVM Model : 120\n",
      "Accuracy of Test data on the linear SVM Model : 99.4 %\n",
      "Accuracy of Validation data on the linear SVM Model : 99.2 %\n"
     ]
    }
   ],
   "source": [
    "print('Mean of W of the linear SVM Model :',np.mean(linear_model.coef_))\n",
    "print('b value of the linear SVM Model :',linear_model.intercept_[0])\n",
    "print('No. of support vectors of the linear SVM Model :',linear_model.n_support_[0] + linear_model.n_support_[1])\n",
    "print('Accuracy of Test data on the linear SVM Model :',linear_model.score(xtest,ytest)*100,'%')\n",
    "print('Accuracy of Validation data on the linear SVM Model :',linear_model.score(xval,yval)*100,'%')"
   ]
  },
  {
   "cell_type": "code",
   "execution_count": 23,
   "metadata": {},
   "outputs": [],
   "source": [
    "Gaussian_model = SVC(kernel='rbf',gamma=0.05)"
   ]
  },
  {
   "cell_type": "code",
   "execution_count": 24,
   "metadata": {},
   "outputs": [
    {
     "name": "stdout",
     "output_type": "stream",
     "text": [
      "3.91 s ± 50.6 ms per loop (mean ± std. dev. of 7 runs, 1 loop each)\n"
     ]
    }
   ],
   "source": [
    "%%timeit\n",
    "Gaussian_model.fit(xtrain, ytrain)"
   ]
  },
  {
   "cell_type": "code",
   "execution_count": 25,
   "metadata": {},
   "outputs": [
    {
     "name": "stdout",
     "output_type": "stream",
     "text": [
      "b value of the gaussian SVM Model : 0.7056494588279296\n",
      "No. of support vectors of the gaussian SVM Model : 338\n",
      "Accuracy of Test data on the gaussian SVM Model : 99.5 %\n",
      "Accuracy of Validation data on the gaussian SVM Model : 98.6 %\n"
     ]
    }
   ],
   "source": [
    "# print('Mean of W of the gaussian SVM Model :',np.mean(Gaussian_model.coef_))\n",
    "print('b value of the gaussian SVM Model :',Gaussian_model.intercept_[0])\n",
    "print('No. of support vectors of the gaussian SVM Model :',Gaussian_model.n_support_[0] + linear_model.n_support_[1])\n",
    "print('Accuracy of Test data on the gaussian SVM Model :',Gaussian_model.score(xtest,ytest)*100,'%')\n",
    "print('Accuracy of Validation data on the gaussian SVM Model :',Gaussian_model.score(xval,yval)*100,'%')"
   ]
  },
  {
   "cell_type": "code",
   "execution_count": 26,
   "metadata": {},
   "outputs": [],
   "source": [
    "#Que2.b\n",
    "#Multi Class SVM\n",
    "x_train_nf,y_train_nf = read_data_nofilter(p1)\n",
    "xtest_nf,ytest_nf = read_data_nofilter(p2)\n",
    "xval_nf,yval_nf = read_data_nofilter(p3)"
   ]
  },
  {
   "cell_type": "code",
   "execution_count": 27,
   "metadata": {
    "scrolled": false
   },
   "outputs": [
    {
     "name": "stdout",
     "output_type": "stream",
     "text": [
      "Que_2(b)Learning with Gaussian Kernel\n"
     ]
    },
    {
     "name": "stderr",
     "output_type": "stream",
     "text": [
      "/home/manu/anaconda3/lib/python3.7/site-packages/sklearn/utils/validation.py:724: DataConversionWarning: A column-vector y was passed when a 1d array was expected. Please change the shape of y to (n_samples, ), for example using ravel().\n",
      "  y = column_or_1d(y, warn=True)\n"
     ]
    },
    {
     "name": "stdout",
     "output_type": "stream",
     "text": [
      "Training time in seconds =  217.7474546432495\n",
      "Accuracy on test data : 0.8808\n",
      "Accuracy on validation data : 0.8792\n"
     ]
    }
   ],
   "source": [
    "print('Que_2(b)Learning with Gaussian Kernel')\n",
    "multi_model = SVC(kernel='rbf',gamma=0.05)\n",
    "t0 = time.time()\n",
    "multi_model.fit(x_train_nf, y_train_nf)\n",
    "print('Training time in seconds = ',time.time()-t0)\n",
    "\n",
    "print('Accuracy on test data :',multi_model.score(xtest_nf, ytest_nf))\n",
    "print('Accuracy on validation data :',multi_model.score(xval_nf, yval_nf))"
   ]
  },
  {
   "cell_type": "code",
   "execution_count": 30,
   "metadata": {},
   "outputs": [],
   "source": [
    "ytest_predicted = multi_model.predict(xtest_nf) \n",
    "yval_predicted = multi_model.predict(xval_nf) "
   ]
  },
  {
   "cell_type": "code",
   "execution_count": 31,
   "metadata": {},
   "outputs": [
    {
     "name": "stdout",
     "output_type": "stream",
     "text": [
      "\n",
      "\n",
      "Confusion matrix for test data(part a\n",
      "\n",
      "\n",
      "[[212   0   1   8   0   0  26   0   3   0]\n",
      " [  0 237   3   7   0   0   2   0   1   0]\n",
      " [  5   0 206   3  18   0  13   0   5   0]\n",
      " [  6   0   0 228   6   0   9   0   1   0]\n",
      " [  1   1  24   8 200   0  15   0   1   0]\n",
      " [  0   0   0   1   0 241   0   2   1   5]\n",
      " [ 34   0  28   3  19   0 165   0   1   0]\n",
      " [  0   0   0   0   0   8   0 230   1  11]\n",
      " [  0   0   1   1   1   0   1   2 244   0]\n",
      " [  0   0   0   0   0   6   0   8   1 235]]\n",
      "\n",
      "\n",
      "Confusion matrix for test data\n",
      "\n",
      "\n",
      "[[433   0   5  11   3   0  38   0  10   0]\n",
      " [  1 482   4   9   0   0   4   0   0   0]\n",
      " [  5   0 411   7  37   0  32   0   8   0]\n",
      " [ 12   0   3 457   9   0  14   0   5   0]\n",
      " [  3   1  41  13 399   0  38   0   5   0]\n",
      " [  0   0   0   0   0 473   0  16   5   6]\n",
      " [ 80   0  55   9  34   0 315   0   7   0]\n",
      " [  0   0   0   0   0  14   0 471   1  14]\n",
      " [  1   0   1   1   2   2   2   2 489   0]\n",
      " [  0   0   0   0   0  11   0  14   1 474]]\n"
     ]
    }
   ],
   "source": [
    "ConfusionMatrix2 = confusion_matrix(yval_nf,yval_predicted)\n",
    "print('\\n\\nConfusion matrix for test data(part a)\\n\\n')\n",
    "print(ConfusionMatrix2)\n",
    "ConfusionMatrix2 = confusion_matrix(yval_nf,yval_predicted)\n",
    "\n",
    "ConfusionMatrix1 = confusion_matrix(ytest_nf,ytest_predicted)\n",
    "print('\\n\\nConfusion matrix for test data\\n\\n')\n",
    "print(ConfusionMatrix1)"
   ]
  },
  {
   "cell_type": "code",
   "execution_count": null,
   "metadata": {},
   "outputs": [],
   "source": []
  }
 ],
 "metadata": {
  "kernelspec": {
   "display_name": "Python 3",
   "language": "python",
   "name": "python3"
  },
  "language_info": {
   "codemirror_mode": {
    "name": "ipython",
    "version": 3
   },
   "file_extension": ".py",
   "mimetype": "text/x-python",
   "name": "python",
   "nbconvert_exporter": "python",
   "pygments_lexer": "ipython3",
   "version": "3.7.4"
  }
 },
 "nbformat": 4,
 "nbformat_minor": 2
}
