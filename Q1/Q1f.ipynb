{
  "nbformat": 4,
  "nbformat_minor": 0,
  "metadata": {
    "colab": {
      "name": "Q1f",
      "provenance": []
    },
    "kernelspec": {
      "name": "python3",
      "display_name": "Python 3"
    },
    "accelerator": "TPU"
  },
  "cells": [
    {
      "cell_type": "code",
      "metadata": {
        "id": "DQsJ9N4hGr1Q",
        "colab_type": "code",
        "outputId": "bc0303ba-90f5-44d3-d6fe-578d8a950fd9",
        "colab": {
          "base_uri": "https://localhost:8080/",
          "height": 124
        }
      },
      "source": [
        "from google.colab import drive\n",
        "drive.mount('/content/drive/')      "
      ],
      "execution_count": 2,
      "outputs": [
        {
          "output_type": "stream",
          "text": [
            "Go to this URL in a browser: https://accounts.google.com/o/oauth2/auth?client_id=947318989803-6bn6qk8qdgf4n4g3pfee6491hc0brc4i.apps.googleusercontent.com&redirect_uri=urn%3aietf%3awg%3aoauth%3a2.0%3aoob&response_type=code&scope=email%20https%3a%2f%2fwww.googleapis.com%2fauth%2fdocs.test%20https%3a%2f%2fwww.googleapis.com%2fauth%2fdrive%20https%3a%2f%2fwww.googleapis.com%2fauth%2fdrive.photos.readonly%20https%3a%2f%2fwww.googleapis.com%2fauth%2fpeopleapi.readonly\n",
            "\n",
            "Enter your authorization code:\n",
            "··········\n",
            "Mounted at /content/drive/\n"
          ],
          "name": "stdout"
        }
      ]
    },
    {
      "cell_type": "code",
      "metadata": {
        "id": "i3_c4SIqGxPE",
        "colab_type": "code",
        "colab": {}
      },
      "source": [
        "from time import time\n",
        "from sklearn.feature_extraction.text import TfidfVectorizer\n",
        "from sklearn.naive_bayes import GaussianNB\n",
        "from sklearn.feature_selection import SelectPercentile, f_classif\n",
        "import pandas as pd\n",
        "from sklearn import metrics\n",
        "from sklearn.feature_selection import chi2\n",
        "import nltk\n",
        "from nltk.stem import WordNetLemmatizer\n",
        "from tqdm import tqdm\n",
        "import numpy as np\n",
        "import time\n",
        "import re"
      ],
      "execution_count": 0,
      "outputs": []
    },
    {
      "cell_type": "code",
      "metadata": {
        "id": "zlBp53AMS-HF",
        "colab_type": "code",
        "outputId": "c0fbc7ed-ab21-4fd3-dee1-57a5ac2a3808",
        "colab": {
          "base_uri": "https://localhost:8080/",
          "height": 104
        }
      },
      "source": [
        "nltk.download('stopwords')\n",
        "nltk.download('wordnet')"
      ],
      "execution_count": 4,
      "outputs": [
        {
          "output_type": "stream",
          "text": [
            "[nltk_data] Downloading package stopwords to /root/nltk_data...\n",
            "[nltk_data]   Unzipping corpora/stopwords.zip.\n",
            "[nltk_data] Downloading package wordnet to /root/nltk_data...\n",
            "[nltk_data]   Unzipping corpora/wordnet.zip.\n"
          ],
          "name": "stdout"
        },
        {
          "output_type": "execute_result",
          "data": {
            "text/plain": [
              "True"
            ]
          },
          "metadata": {
            "tags": []
          },
          "execution_count": 4
        }
      ]
    },
    {
      "cell_type": "code",
      "metadata": {
        "id": "6Hi9ExV-GzMW",
        "colab_type": "code",
        "colab": {}
      },
      "source": [
        "root_path = '/content/drive/My Drive/NB_Data/'\n",
        "df_train_data = pd.read_csv(root_path+\"training.1600000.processed.noemoticon.csv\",encoding='latin-1', usecols=[0,5], header=None)\n",
        "df_test_data  = pd.read_csv(root_path+\"testdata.manual.2009.06.14.csv\",encoding='latin-1', usecols=[0,5], header=None)"
      ],
      "execution_count": 0,
      "outputs": []
    },
    {
      "cell_type": "code",
      "metadata": {
        "id": "qI8t0x4WHBem",
        "colab_type": "code",
        "colab": {}
      },
      "source": [
        "def clean_data(tweet):\n",
        "  stopwords = nltk.corpus.stopwords.words('english')\n",
        "  lemma = WordNetLemmatizer()\n",
        "  tokens_list = re.split('\\W+',tweet) \n",
        "  lower_list = [word.lower() for word in tokens_list if word.isalpha()]   \n",
        "  txt_clean = \" \".join([lemma.lemmatize(x) for x in lower_list if x not in stopwords])\n",
        "  return txt_clean\n"
      ],
      "execution_count": 0,
      "outputs": []
    },
    {
      "cell_type": "code",
      "metadata": {
        "id": "sr7-s3QUJ6wD",
        "colab_type": "code",
        "outputId": "6c534ed4-0354-4b91-b5fb-7db994d30707",
        "colab": {
          "base_uri": "https://localhost:8080/",
          "height": 69
        }
      },
      "source": [
        "#cleaning the training data\n",
        "t1 = time.time()\n",
        "df_train_data['clean_data'] = df_train_data[5].apply(lambda x : clean_data(x))\n",
        "print('\\n\\nTime to clean training data = ',time.time()-t1)"
      ],
      "execution_count": 7,
      "outputs": [
        {
          "output_type": "stream",
          "text": [
            "\n",
            "\n",
            "Time to clean training data =  286.91118240356445\n"
          ],
          "name": "stdout"
        }
      ]
    },
    {
      "cell_type": "code",
      "metadata": {
        "id": "F-0by03GLOrz",
        "colab_type": "code",
        "outputId": "3a9f8a2e-c391-4d91-9b47-9a38917501b9",
        "colab": {
          "base_uri": "https://localhost:8080/",
          "height": 69
        }
      },
      "source": [
        "#cleaning the testing data\n",
        "t1 = time.time()\n",
        "df_test_data['clean_data'] = df_test_data[5].apply(lambda x : clean_data(x))\n",
        "print('\\n\\nTime to clean testing data = ',time.time()-t1)"
      ],
      "execution_count": 8,
      "outputs": [
        {
          "output_type": "stream",
          "text": [
            "\n",
            "\n",
            "Time to clean testing data =  0.10615253448486328\n"
          ],
          "name": "stdout"
        }
      ]
    },
    {
      "cell_type": "code",
      "metadata": {
        "id": "Vad3FQv_NyL-",
        "colab_type": "code",
        "colab": {}
      },
      "source": [
        "#Converting cleand data into list for faster processing\n",
        "features_train = df_train_data['clean_data'].tolist()\n",
        "labels_train = df_train_data[0].tolist()\n",
        "\n",
        "df_test_data = df_test_data[df_test_data[0]!=2]\n",
        "features_test = df_test_data['clean_data']\n",
        "labels_test = df_test_data[0]"
      ],
      "execution_count": 0,
      "outputs": []
    },
    {
      "cell_type": "code",
      "metadata": {
        "id": "6KFGjkLvP_qL",
        "colab_type": "code",
        "colab": {}
      },
      "source": [
        "vectorizer = TfidfVectorizer(sublinear_tf=True, dtype=np.float32)\n",
        "X_train = vectorizer.fit_transform(features_train)\n",
        "X_test = vectorizer.transform(features_test)"
      ],
      "execution_count": 0,
      "outputs": []
    },
    {
      "cell_type": "code",
      "metadata": {
        "id": "lop0-z9QOIFC",
        "colab_type": "code",
        "colab": {}
      },
      "source": [
        "def data_slice(X,Y,i,batch_size):\n",
        "    return X[i:i+batch_size], Y[i:i+batch_size]"
      ],
      "execution_count": 0,
      "outputs": []
    },
    {
      "cell_type": "code",
      "metadata": {
        "id": "4RerOuV2ONUz",
        "colab_type": "code",
        "colab": {}
      },
      "source": [
        "def train_model(train_data_parm, model_name):\n",
        "    batch_size = 1000\n",
        "    for i in tqdm(range(1600)):\n",
        "        X_slice,Y_slice  = data_slice(train_data_parm,labels_train,i*batch_size,batch_size)\n",
        "        model_name.partial_fit(X_slice.todense(),Y_slice,classes=[0,4])\n",
        "    "
      ],
      "execution_count": 0,
      "outputs": []
    },
    {
      "cell_type": "code",
      "metadata": {
        "id": "rC5QCYwLOXXP",
        "colab_type": "code",
        "colab": {}
      },
      "source": [
        "def cal_accuracy(model_name,test_data):\n",
        "    score_test = model_name.score(test_data.todense(), labels_test)\n",
        "    print('shape of test data :',test_data.shape)\n",
        "    print(\"Testing data score:\", score_test)"
      ],
      "execution_count": 0,
      "outputs": []
    },
    {
      "cell_type": "code",
      "metadata": {
        "id": "Mf3lM4ZJOcpW",
        "colab_type": "code",
        "colab": {}
      },
      "source": [
        "model1 = GaussianNB()"
      ],
      "execution_count": 0,
      "outputs": []
    },
    {
      "cell_type": "code",
      "metadata": {
        "id": "mNiVeEWDOPIG",
        "colab_type": "code",
        "outputId": "a5f4dff7-5114-4cc8-aef7-51d3d5f54ea7",
        "colab": {
          "base_uri": "https://localhost:8080/",
          "height": 52
        }
      },
      "source": [
        "t0 = time.time()\n",
        "train_model(X_train,model1)\n",
        "print('Time to train the model without features selection = ',time.time()-t0)"
      ],
      "execution_count": 15,
      "outputs": [
        {
          "output_type": "stream",
          "text": [
            "100%|██████████| 1600/1600 [1:50:43<00:00,  4.16s/it]"
          ],
          "name": "stderr"
        },
        {
          "output_type": "stream",
          "text": [
            "Time to train the model without features selection =  6643.0398206710815\n"
          ],
          "name": "stdout"
        },
        {
          "output_type": "stream",
          "text": [
            "\n"
          ],
          "name": "stderr"
        }
      ]
    },
    {
      "cell_type": "code",
      "metadata": {
        "id": "KeTeKSkTO7e2",
        "colab_type": "code",
        "colab": {
          "base_uri": "https://localhost:8080/",
          "height": 69
        },
        "outputId": "46cb8e7e-9bcb-4db1-a505-6532c746450b"
      },
      "source": [
        "#training the model on the data without features selection\n",
        "t0 = time.time()\n",
        "cal_accuracy(model1,X_test)\n",
        "print('Prediction time on test without features selection = ',time.time()-t0)"
      ],
      "execution_count": 16,
      "outputs": [
        {
          "output_type": "stream",
          "text": [
            "shape of test data : (359, 520119)\n",
            "Testing data score: 0.48746518105849584\n",
            "Prediction time on test without features selection =  2.5561695098876953\n"
          ],
          "name": "stdout"
        }
      ]
    },
    {
      "cell_type": "code",
      "metadata": {
        "id": "evq6Z6PIOR6H",
        "colab_type": "code",
        "colab": {}
      },
      "source": [
        "sp_model = SelectPercentile(chi2, percentile=10)\n",
        "X_new_train = sp_model.fit_transform(X_train,labels_train)\n",
        "X_new_test = sp_model.transform(X_test)"
      ],
      "execution_count": 0,
      "outputs": []
    },
    {
      "cell_type": "code",
      "metadata": {
        "id": "5-qdVKdIOg5f",
        "colab_type": "code",
        "colab": {}
      },
      "source": [
        "#creating new model\n",
        "model2 = GaussianNB()"
      ],
      "execution_count": 0,
      "outputs": []
    },
    {
      "cell_type": "code",
      "metadata": {
        "id": "kAsRDK1kOjKl",
        "colab_type": "code",
        "colab": {
          "base_uri": "https://localhost:8080/",
          "height": 86
        },
        "outputId": "0ca47eab-3988-4254-e0f8-327db89bcc65"
      },
      "source": [
        "#training the model on the data without features selection\n",
        "t0 = time.time()\n",
        "train_model(X_new_train,model2)\n",
        "print('\\n\\nTime to train the model with features selection = ',time.time()-t0)"
      ],
      "execution_count": 19,
      "outputs": [
        {
          "output_type": "stream",
          "text": [
            "100%|██████████| 1600/1600 [12:12<00:00,  2.20it/s]"
          ],
          "name": "stderr"
        },
        {
          "output_type": "stream",
          "text": [
            "\n",
            "\n",
            "Time to train the model with features selection =  732.8885593414307\n"
          ],
          "name": "stdout"
        },
        {
          "output_type": "stream",
          "text": [
            "\n"
          ],
          "name": "stderr"
        }
      ]
    },
    {
      "cell_type": "code",
      "metadata": {
        "id": "YUiBX9AjOlbI",
        "colab_type": "code",
        "colab": {
          "base_uri": "https://localhost:8080/",
          "height": 104
        },
        "outputId": "c34c8b63-0546-4de0-d512-0656aea83605"
      },
      "source": [
        "#testing accuracy of the model on the data with features selection\n",
        "t0 = time.time()\n",
        "cal_accuracy(model2,X_new_test)\n",
        "print('\\n\\nTime to check accuracy on testing data with features selection = ',time.time()-t0)"
      ],
      "execution_count": 20,
      "outputs": [
        {
          "output_type": "stream",
          "text": [
            "shape of test data : (359, 52012)\n",
            "Testing data score: 0.5013927576601671\n",
            "\n",
            "\n",
            "Time to check accuracy on testing data with features selection =  0.3007667064666748\n"
          ],
          "name": "stdout"
        }
      ]
    },
    {
      "cell_type": "code",
      "metadata": {
        "id": "4hncivqRW9m-",
        "colab_type": "code",
        "colab": {}
      },
      "source": [
        ""
      ],
      "execution_count": 0,
      "outputs": []
    }
  ]
}