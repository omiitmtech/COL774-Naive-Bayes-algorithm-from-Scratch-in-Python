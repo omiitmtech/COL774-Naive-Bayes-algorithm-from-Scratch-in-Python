{
 "cells": [
  {
   "cell_type": "code",
   "execution_count": 10,
   "metadata": {},
   "outputs": [],
   "source": [
    "#Que(1)_f_rowdata\n",
    "#TF-IDF is done without any preprocessing on the row data\n",
    "#run on google colab\n",
    "#run command: python Qu1_f_rowdata.py training_file_path testing_file_path"
   ]
  },
  {
   "cell_type": "code",
   "execution_count": 11,
   "metadata": {
    "colab": {},
    "colab_type": "code",
    "id": "UAzZdOZE_h3o"
   },
   "outputs": [],
   "source": [
    "from time import time\n",
    "from sklearn.feature_extraction.text import TfidfVectorizer\n",
    "from sklearn.naive_bayes import GaussianNB\n",
    "from sklearn.feature_selection import SelectPercentile, f_classif\n",
    "import pandas as pd\n",
    "from sklearn import metrics\n",
    "from sklearn.feature_selection import chi2\n",
    "from tqdm import tqdm\n",
    "import numpy as np\n",
    "import sys"
   ]
  },
  {
   "cell_type": "code",
   "execution_count": 2,
   "metadata": {},
   "outputs": [],
   "source": [
    "# p1 = sys.argv[1] #training file\n",
    "# p2 = sys.argv[2] # testing file\n",
    "p1 = \"trainingandtestdata/training.1600000.processed.noemoticon.csv\" #training file\n",
    "p2 = \"trainingandtestdata/testdata.manual.2009.06.14.csv\"  #testing file"
   ]
  },
  {
   "cell_type": "code",
   "execution_count": 3,
   "metadata": {
    "colab": {},
    "colab_type": "code",
    "id": "cbMvOOFq_Nbr"
   },
   "outputs": [],
   "source": [
    "df_train_data = pd.read_csv(p1,encoding='latin-1', usecols=[0,5], header=None)\n",
    " "
   ]
  },
  {
   "cell_type": "code",
   "execution_count": 4,
   "metadata": {
    "colab": {},
    "colab_type": "code",
    "id": "bPO-_4bIAu9y"
   },
   "outputs": [],
   "source": [
    "df_test_data  = pd.read_csv(p2,encoding='latin-1', usecols=[0,5], header=None)"
   ]
  },
  {
   "cell_type": "code",
   "execution_count": 5,
   "metadata": {
    "colab": {},
    "colab_type": "code",
    "id": "I0yiZTOM_vwb"
   },
   "outputs": [],
   "source": [
    "features_train = df_train_data[5].tolist()\n",
    "labels_train = df_train_data[0].tolist()\n",
    "\n",
    "df_test_data = df_test_data[df_test_data[0]!=2]\n",
    "features_test = df_test_data[5]\n",
    "labels_test = df_test_data[0]"
   ]
  },
  {
   "cell_type": "code",
   "execution_count": 6,
   "metadata": {
    "colab": {},
    "colab_type": "code",
    "id": "UdSBhFRZBLV9"
   },
   "outputs": [],
   "source": [
    "vectorizer = TfidfVectorizer(sublinear_tf=True, stop_words='english',dtype=np.float32)\n",
    "X_train = vectorizer.fit_transform(features_train)\n",
    "X_test = vectorizer.transform(features_test)"
   ]
  },
  {
   "cell_type": "code",
   "execution_count": 7,
   "metadata": {
    "colab": {},
    "colab_type": "code",
    "id": "o-VgFPHaBPjm"
   },
   "outputs": [],
   "source": [
    "def data_slice(X,Y,i,batch_size):\n",
    "    return X[i:i+batch_size], Y[i:i+batch_size]"
   ]
  },
  {
   "cell_type": "code",
   "execution_count": 8,
   "metadata": {
    "colab": {},
    "colab_type": "code",
    "id": "BdAoxVwrBYPe"
   },
   "outputs": [],
   "source": [
    "model1 = GaussianNB()"
   ]
  },
  {
   "cell_type": "code",
   "execution_count": 9,
   "metadata": {
    "colab": {},
    "colab_type": "code",
    "id": "avIUIwx-BbG-"
   },
   "outputs": [],
   "source": [
    "def train_model(train_data_parm, model_name):\n",
    "    batch_size = 1000\n",
    "    for i in tqdm(range(1600)):\n",
    "        X_slice,Y_slice  = data_slice(train_data_parm,labels_train,i*batch_size,batch_size)\n",
    "        model_name.partial_fit(X_slice.todense(),Y_slice,classes=[0,4])\n",
    "    "
   ]
  },
  {
   "cell_type": "code",
   "execution_count": 0,
   "metadata": {
    "colab": {
     "base_uri": "https://localhost:8080/",
     "height": 52
    },
    "colab_type": "code",
    "id": "0DwQRDmqpV1y",
    "outputId": "9e42dbb2-d47e-4848-d58b-623fc6ba4017"
   },
   "outputs": [
    {
     "name": "stderr",
     "output_type": "stream",
     "text": [
      "100%|██████████| 1600/1600 [3:07:28<00:00,  7.01s/it]"
     ]
    },
    {
     "name": "stdout",
     "output_type": "stream",
     "text": [
      "Time to train the model without features selection: 11248.042s\n"
     ]
    },
    {
     "name": "stderr",
     "output_type": "stream",
     "text": [
      "\n"
     ]
    }
   ],
   "source": [
    "t0 = time()\n",
    "train_model(X_train,model1)\n",
    "print(f\"Time to train the model without features selection: {round(time()-t0, 3)}s\")"
   ]
  },
  {
   "cell_type": "code",
   "execution_count": 0,
   "metadata": {
    "colab": {},
    "colab_type": "code",
    "id": "AhWcBl3ZpgEi"
   },
   "outputs": [],
   "source": [
    "def cal_accuracy(model_name,test_data):\n",
    "    score_test = model_name.score(test_data.todense(), labels_test)\n",
    "    print('shape of test data :',test_data.shape)\n",
    "    print(\"Testing data score:\", score_test)"
   ]
  },
  {
   "cell_type": "code",
   "execution_count": 0,
   "metadata": {
    "colab": {
     "base_uri": "https://localhost:8080/",
     "height": 69
    },
    "colab_type": "code",
    "id": "F1JR72Ltkfhy",
    "outputId": "b45652bc-0181-4c45-b809-5530f6987e5d"
   },
   "outputs": [
    {
     "name": "stdout",
     "output_type": "stream",
     "text": [
      "shape of test data : (359, 684047)\n",
      "Testing data score: 0.5069637883008357\n",
      "Prediction time (test): 3.99s\n"
     ]
    }
   ],
   "source": [
    "t0 = time()\n",
    "cal_accuracy(model1,X_test)\n",
    "print(f\"Prediction time (test): {round(time()-t0, 3)}s\")"
   ]
  },
  {
   "cell_type": "code",
   "execution_count": 0,
   "metadata": {
    "colab": {},
    "colab_type": "code",
    "id": "ZUYJgEjIkg2t"
   },
   "outputs": [],
   "source": [
    "sp_model = SelectPercentile(chi2, percentile=10)\n",
    "X_new_train = sp_model.fit_transform(X_train,labels_train)\n",
    "X_new_test = sp_model.transform(X_test)"
   ]
  },
  {
   "cell_type": "code",
   "execution_count": 0,
   "metadata": {
    "colab": {},
    "colab_type": "code",
    "id": "GQyFvmWQkiFn"
   },
   "outputs": [],
   "source": [
    "model2 = GaussianNB()"
   ]
  },
  {
   "cell_type": "code",
   "execution_count": 0,
   "metadata": {
    "colab": {
     "base_uri": "https://localhost:8080/",
     "height": 52
    },
    "colab_type": "code",
    "id": "nbbEMdyXkjQy",
    "outputId": "b1596787-96b0-47fe-d79c-16a1c24946c4"
   },
   "outputs": [
    {
     "name": "stderr",
     "output_type": "stream",
     "text": [
      "100%|██████████| 1600/1600 [16:26<00:00,  1.62it/s]"
     ]
    },
    {
     "name": "stdout",
     "output_type": "stream",
     "text": [
      "Time to train model with features selection 986.131s\n"
     ]
    },
    {
     "name": "stderr",
     "output_type": "stream",
     "text": [
      "\n"
     ]
    }
   ],
   "source": [
    "t0 = time()\n",
    "train_model(X_new_train,model2)\n",
    "print(f\"Time to train model with features selection {round(time()-t0, 3)}s\")"
   ]
  },
  {
   "cell_type": "code",
   "execution_count": 0,
   "metadata": {
    "colab": {
     "base_uri": "https://localhost:8080/",
     "height": 69
    },
    "colab_type": "code",
    "id": "JDx-J4nWkkn9",
    "outputId": "a1cf3658-0830-4914-f940-2845c7be4b35"
   },
   "outputs": [
    {
     "name": "stdout",
     "output_type": "stream",
     "text": [
      "shape of test data : (359, 68405)\n",
      "Testing data score: 0.5041782729805014\n",
      "Prediction time (test): 0.377s\n"
     ]
    }
   ],
   "source": [
    "t0 = time()\n",
    "cal_accuracy(model2,X_new_test)\n",
    "print(f\"Prediction time (test): {round(time()-t0, 3)}s\")"
   ]
  },
  {
   "cell_type": "code",
   "execution_count": 0,
   "metadata": {
    "colab": {},
    "colab_type": "code",
    "id": "_rvrIMJQkmi7"
   },
   "outputs": [],
   "source": []
  }
 ],
 "metadata": {
  "colab": {
   "collapsed_sections": [],
   "machine_shape": "hm",
   "name": "Qu1_f_rowdata",
   "provenance": []
  },
  "kernelspec": {
   "display_name": "Python 3",
   "language": "python",
   "name": "python3"
  },
  "language_info": {
   "codemirror_mode": {
    "name": "ipython",
    "version": 3
   },
   "file_extension": ".py",
   "mimetype": "text/x-python",
   "name": "python",
   "nbconvert_exporter": "python",
   "pygments_lexer": "ipython3",
   "version": "3.7.4"
  }
 },
 "nbformat": 4,
 "nbformat_minor": 1
}
