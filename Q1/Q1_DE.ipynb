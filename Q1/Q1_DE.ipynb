{
 "cells": [
  {
   "cell_type": "code",
   "execution_count": null,
   "metadata": {},
   "outputs": [],
   "source": [
    "#Que1 (d) and (e) and (g) Features selection, top of the model built up in part d, and ROC\n",
    "#Run Command: python training_file testing_file setmming/lemmatization e/d(question no.)"
   ]
  },
  {
   "cell_type": "code",
   "execution_count": 20,
   "metadata": {},
   "outputs": [],
   "source": [
    "#import all libraries here\n",
    "import pandas as pd\n",
    "import re \n",
    "from tqdm import tqdm\n",
    "import math\n",
    "from random import *\n",
    "from mlxtend.plotting import plot_confusion_matrix\n",
    "from sklearn.metrics import roc_curve, auc\n",
    "import matplotlib.pyplot as plt\n",
    "from sklearn.metrics import confusion_matrix\n",
    "import numpy as np\n",
    "import nltk\n",
    "from nltk.tokenize import word_tokenize\n",
    "from nltk.stem import SnowballStemmer\n",
    "from nltk.stem import WordNetLemmatizer\n",
    "import string\n",
    "import sys"
   ]
  },
  {
   "cell_type": "code",
   "execution_count": 3,
   "metadata": {},
   "outputs": [],
   "source": [
    "# p1 = sys.argv[1] #training file\n",
    "# p2 = sys.argv[2] # testing file\n",
    "# p3 = sys.argv[3] # stemming/lemmatization\n",
    "# p4 = sys.argv[4] # option e or d\n",
    "# p5 = sys.argv[4] # 2 or 3 for ngram\n",
    "p1 = \"trainingandtestdata/training.1600000.processed.noemoticon.csv\" #training file\n",
    "p2 = \"trainingandtestdata/testdata.manual.2009.06.14.csv\"  #testing file\n",
    "p3 = \"lemmatization\"\n",
    "p4 = \"d\"\n",
    "p5 = 3"
   ]
  },
  {
   "cell_type": "code",
   "execution_count": 4,
   "metadata": {},
   "outputs": [],
   "source": [
    "#Reading data from the given data file into data frames\n",
    "#0th (label) and 5th(tweets) are only extracted from the file\n",
    "def read_data(file_path):\n",
    "    df = pd.read_csv(file_path,encoding='latin-1', usecols=[0,5], header=None)\n",
    "    return df"
   ]
  },
  {
   "cell_type": "code",
   "execution_count": 5,
   "metadata": {},
   "outputs": [],
   "source": [
    "df_data = read_data(p1)"
   ]
  },
  {
   "cell_type": "code",
   "execution_count": 6,
   "metadata": {},
   "outputs": [],
   "source": [
    "#this function returns ngrams\n",
    "def calc_ngrams(tweet_tokens,n):\n",
    "    args = [tweet_tokens[i:] for i in range(n)]\n",
    "    return list(zip(*args))"
   ]
  },
  {
   "cell_type": "code",
   "execution_count": 7,
   "metadata": {},
   "outputs": [],
   "source": [
    "#create dictionary without stop words\n",
    "def create_dict(df_input, no_samples, stem_type,option):\n",
    "    freq_dict = {}\n",
    "    list_of_tokens = []\n",
    "    stopwords = nltk.corpus.stopwords.words('english')\n",
    "    snowball = SnowballStemmer('english')\n",
    "    lemma = WordNetLemmatizer()\n",
    "    \n",
    "    for tweet in tqdm(df_input):\n",
    "        tweet_rm  = \" \".join(filter(lambda x:x[0]!='@', tweet.split()))\n",
    "        tweet_list = word_tokenize(tweet_rm)     \n",
    "        lower_list = [word.lower() for word in tweet_list if word.isalpha()]\n",
    "        no_punc_text= lower_list\n",
    "        \n",
    "              \n",
    "        if stem_type == 'stemming':\n",
    "            txt_clean = [ snowball.stem(x) for x in no_punc_text if x not in stopwords]\n",
    "        \n",
    "        if stem_type == 'lemmatization':\n",
    "            txt_clean = [ lemma.lemmatize(x) for x in no_punc_text if x not in stopwords]\n",
    "        \n",
    "        \n",
    "        #if the question que1 (e) then only bigrams will be considered\n",
    "        #for the question que1 (d) only the unigrams will be considered\n",
    "        if option == 'e':\n",
    "            #ngrams are calculated here\n",
    "            ngrams_list = calc_ngrams(txt_clean,p5)\n",
    "            #Ngrams are taken together with unigram\n",
    "            txt_clean = txt_clean + ngrams_list\n",
    "        \n",
    "        \n",
    "        list_of_tokens.append(txt_clean)\n",
    "        for word in txt_clean:\n",
    "            if(word in freq_dict.keys()):\n",
    "                freq_dict[word]+=1\n",
    "            else:\n",
    "                freq_dict[word]=1\n",
    "            \n",
    "    return list_of_tokens,freq_dict"
   ]
  },
  {
   "cell_type": "code",
   "execution_count": 8,
   "metadata": {},
   "outputs": [],
   "source": [
    "#function to make two dictionaries one for each class 0 and 4\n",
    "#it puts both dictionaries into a list and returns the list\n",
    "#0 = negative, 4 = positive\n",
    "def make_dictionaries(stem_type):\n",
    "    \n",
    "    df_neg_data = df_data[df_data[0] == 0][5].tolist()\n",
    "    df_pos_data = df_data[df_data[0] == 4][5].tolist()\n",
    "    \n",
    "    prob_pos_class = (len(df_pos_data)/(len(df_neg_data) + len(df_pos_data) ))\n",
    "    prob_neg_class = (len(df_neg_data)/(len(df_neg_data) + len(df_pos_data) ))\n",
    "        \n",
    "    \n",
    "    list_of_neg_tokens,dict_neg_data = create_dict(df_neg_data,len(df_neg_data),stem_type,p4)\n",
    "    list_of_pos_tokens,dict_pos_data = create_dict(df_pos_data,len(df_pos_data),stem_type,p4)\n",
    "    \n",
    "    list_freq = [dict_neg_data,dict_pos_data]\n",
    "    list_tokens = list_of_neg_tokens + list_of_pos_tokens\n",
    "    \n",
    "    return list_freq,list_tokens,prob_pos_class,prob_neg_class\n",
    "    "
   ]
  },
  {
   "cell_type": "code",
   "execution_count": 9,
   "metadata": {},
   "outputs": [
    {
     "name": "stderr",
     "output_type": "stream",
     "text": [
      "100%|██████████| 800000/800000 [02:21<00:00, 5647.02it/s]\n",
      "100%|██████████| 800000/800000 [02:20<00:00, 5713.45it/s]\n"
     ]
    }
   ],
   "source": [
    "# list_freq,list_tokens,prob_pos_class,prob_neg_class = make_dictionaries('stemming')\n",
    "list_freq,list_tokens,prob_pos_class,prob_neg_class = make_dictionaries(p3)\n",
    "df_data['clean_data'] = list_tokens\n"
   ]
  },
  {
   "cell_type": "code",
   "execution_count": 10,
   "metadata": {},
   "outputs": [],
   "source": [
    "#It takes a dictionary as input and returns another dictionary with probability of each word\n",
    "# no of times a word occur / total no. of words (frequencies are considered not the unique words)\n",
    "# Laplace_Smoothing is done here itself\n",
    "def calculate_probs(input_dict,X):\n",
    "    dict_prob={}\n",
    "    alpha = len(X)\n",
    "    c = 1\n",
    "    total_words = sum(input_dict.values())\n",
    "    print('alpha :',alpha,total_words)\n",
    "    for i in X:\n",
    "        val = input_dict.get(i,0)\n",
    "        dict_prob[i]=((val + c)/(total_words + c*alpha))\n",
    "        \n",
    "    return dict_prob\n",
    "    "
   ]
  },
  {
   "cell_type": "code",
   "execution_count": 11,
   "metadata": {},
   "outputs": [],
   "source": [
    "#function to return the list of probability dictionaries\n",
    "def return_prob_dict():\n",
    "    X = (set(list_freq[0]) | set(list_freq[1]))\n",
    "    print('no of words :',len(X))\n",
    "    dict_neg_prob = calculate_probs(list_freq[0],X)\n",
    "    dict_pos_prob = calculate_probs(list_freq[1],X)\n",
    "    list_prob = [dict_neg_prob, dict_pos_prob]\n",
    "    \n",
    "    return list_prob"
   ]
  },
  {
   "cell_type": "code",
   "execution_count": 12,
   "metadata": {},
   "outputs": [
    {
     "name": "stdout",
     "output_type": "stream",
     "text": [
      "no of words : 243175\n",
      "alpha : 243175 5616544\n",
      "alpha : 243175 5355205\n"
     ]
    }
   ],
   "source": [
    "list_prob= return_prob_dict()"
   ]
  },
  {
   "cell_type": "code",
   "execution_count": 13,
   "metadata": {},
   "outputs": [],
   "source": [
    "#returns the list of words of a sentence\n",
    "def return_tokens(tweet,option):\n",
    "    stopwords = nltk.corpus.stopwords.words('english')\n",
    "    tweet_rm  = \" \".join(filter(lambda x:x[0]!='@', tweet.split()))\n",
    "    tweet_list = word_tokenize(tweet_rm)\n",
    "    lower_list = [word.lower() for word in tweet_list if word.isalpha()]\n",
    "    txt_clean = [x for x in lower_list if x not in stopwords]\n",
    "    \n",
    "    \n",
    "    if option == 'e':\n",
    "        #bigrams are claculated here\n",
    "        ngrams_list = calc_ngrams(txt_clean,p5)\n",
    "        #ngrams and unigrams are taken together\n",
    "        txt_clean = txt_clean + ngrams_list\n",
    "    \n",
    "    return txt_clean"
   ]
  },
  {
   "cell_type": "code",
   "execution_count": 14,
   "metadata": {},
   "outputs": [],
   "source": [
    "#calculates P(new_tweet/-ve)\n",
    "def cal_prob_neg_class(new_tweet,test_type):\n",
    "    prob = 0;\n",
    "    total_keys = len(list_prob[0])\n",
    "    c = 1\n",
    "    \n",
    "    if test_type == 'test' :\n",
    "        #option e or d as given input here\n",
    "        list_of_words = return_tokens(new_tweet,p4)\n",
    "    else :\n",
    "        list_of_words = new_tweet\n",
    "        \n",
    "    for word in list_of_words:\n",
    "        prob += math.log(list_prob[0].get(word,1/(c*total_keys)))\n",
    "    return prob"
   ]
  },
  {
   "cell_type": "code",
   "execution_count": 15,
   "metadata": {},
   "outputs": [],
   "source": [
    "#calculates P(new_tweet/+ve)\n",
    "def cal_prob_pos_class(new_tweet,test_type):\n",
    "    prob = 0;\n",
    "    total_keys = len(list_prob[1])\n",
    "    \n",
    "    if test_type == 'test' :\n",
    "        #option e or d as given input here\n",
    "        list_of_words = return_tokens(new_tweet,p4)\n",
    "    else :\n",
    "        list_of_words = new_tweet\n",
    "        \n",
    "    c = 1\n",
    "    for word in list_of_words:\n",
    "        prob += math.log(list_prob[1].get(word,(c/(c*total_keys))))\n",
    "    return prob"
   ]
  },
  {
   "cell_type": "code",
   "execution_count": 16,
   "metadata": {},
   "outputs": [],
   "source": [
    "#predict the class of new tweet\n",
    "def make_prediction(new_tweet,test_data):\n",
    "    prob_new_tweet_given_pos_class = cal_prob_pos_class(new_tweet,test_data)\n",
    "    prob_new_tweet_given_neg_class = cal_prob_neg_class(new_tweet,test_data)\n",
    "    \n",
    "    pos_class_prob = prob_new_tweet_given_pos_class + math.log(prob_pos_class)\n",
    "    neg_class_prob = prob_new_tweet_given_neg_class + math.log(prob_neg_class)\n",
    "    \n",
    "    if pos_class_prob > neg_class_prob:\n",
    "        return neg_class_prob,pos_class_prob,4\n",
    "    else:\n",
    "        return neg_class_prob,pos_class_prob,0"
   ]
  },
  {
   "cell_type": "code",
   "execution_count": 17,
   "metadata": {},
   "outputs": [],
   "source": [
    "import warnings\n",
    "warnings.filterwarnings(\"ignore\")"
   ]
  },
  {
   "cell_type": "code",
   "execution_count": 32,
   "metadata": {},
   "outputs": [],
   "source": [
    "def calculate_accuracy(file_path,test_type):\n",
    "    pred_list=[]\n",
    "    class0_prb = []\n",
    "    class4_prb = []\n",
    "    \n",
    "    if test_type == 'test':\n",
    "        df_test_data = pd.read_csv(file_path,encoding='latin-1', usecols=[0,5], header=None)\n",
    "        test_data = df_test_data[df_test_data[0] !=2]\n",
    "        test_data.reset_index(drop=True, inplace=True)\n",
    "        X = test_data[5]\n",
    "    else :\n",
    "        test_data = df_data\n",
    "        X = test_data['clean_data']\n",
    "        \n",
    "    for i in tqdm(X):\n",
    "        cls_prb0,cls_prb4,pred=make_prediction(i,test_type)\n",
    "        pred_list.append(pred)\n",
    "        class0_prb.append(cls_prb0)\n",
    "        \n",
    "        temp = np.exp(cls_prb4)/(np.exp(cls_prb4)+np.exp(cls_prb0))\n",
    "        class4_prb.append(temp)\n",
    "        \n",
    "    test_data['pred']=pred_list\n",
    "    conf_matrix = confusion_matrix(test_data[0],test_data['pred'])\n",
    "    accuracy = len(test_data[test_data[0]==test_data['pred']])/len(test_data)\n",
    "    \n",
    "    if p4 == \"d\":\n",
    "        test_data['label'] = test_data[0]\n",
    "        test_data.loc[test_data['label'] == 4, 'label'] = 1\n",
    "        test_data.loc[test_data['pred'] == 4, 'pred'] = 1\n",
    "\n",
    "        nb_fpr4,nb_tpr4,threshold4 = roc_curve (test_data['label'],class4_prb,pos_label=1) \n",
    "        nb_auc4 = auc(nb_fpr4,nb_tpr4)\n",
    "\n",
    "        plt.figure(figsize=(5,5),dpi=100)\n",
    "        plt.plot(nb_fpr4,nb_tpr4,linestyle='-',color='darkorange',label='NB(auc=%0.2f)'%nb_auc4)\n",
    "        plt.plot([0, 1], [0, 1], color='r', linestyle='--')\n",
    "        plt.xlim([0.0, 1.0])\n",
    "        plt.ylim([0.0, 1.05])\n",
    "        plt.xlabel('False Positive Rate')\n",
    "        plt.ylabel('True Positive Rate')\n",
    "        plt.title('Receiver operating characteristic')\n",
    "        plt.legend(loc=\"upper left\")\n",
    "        plt.show()\n",
    "    \n",
    "    return accuracy,conf_matrix\n",
    "    "
   ]
  },
  {
   "cell_type": "code",
   "execution_count": 33,
   "metadata": {},
   "outputs": [
    {
     "name": "stderr",
     "output_type": "stream",
     "text": [
      "100%|██████████| 359/359 [00:00<00:00, 1835.38it/s]"
     ]
    },
    {
     "name": "stdout",
     "output_type": "stream",
     "text": [
      "--------Accuracies reported on the test and train data for d part--------\n"
     ]
    },
    {
     "name": "stderr",
     "output_type": "stream",
     "text": [
      "\n"
     ]
    },
    {
     "data": {
      "image/png": "[encoded data removed]",
      "text/plain": [
       "<Figure size 500x500 with 1 Axes>"
      ]
     },
     "metadata": {
      "needs_background": "light"
     },
     "output_type": "display_data"
    },
    {
     "name": "stdout",
     "output_type": "stream",
     "text": [
      "Accuracy on Test Data : 0.7855153203342619\n"
     ]
    }
   ],
   "source": [
    "print('--------Accuracies reported on the test and train data for '+p4+' part--------')\n",
    "accuracy,conf_matrix = calculate_accuracy(p2,'test')\n",
    "print('Accuracy on Test Data :',accuracy)\n",
    "# print(conf_matrix)"
   ]
  },
  {
   "cell_type": "code",
   "execution_count": 34,
   "metadata": {
    "scrolled": true
   },
   "outputs": [
    {
     "name": "stderr",
     "output_type": "stream",
     "text": [
      "100%|██████████| 1600000/1600000 [00:12<00:00, 132901.99it/s]\n"
     ]
    },
    {
     "data": {
      "image/png": "[encoded data removed]",
      "text/plain": [
       "<Figure size 500x500 with 1 Axes>"
      ]
     },
     "metadata": {
      "needs_background": "light"
     },
     "output_type": "display_data"
    },
    {
     "name": "stdout",
     "output_type": "stream",
     "text": [
      "Accuracy on Training Data : 0.790635625\n",
      "[[640748 159252]\n",
      " [175731 624269]]\n"
     ]
    }
   ],
   "source": [
    "accuracy,conf_matrix = calculate_accuracy(p3,'train')\n",
    "print('Accuracy on Training Data :',accuracy)\n",
    "print(conf_matrix)"
   ]
  },
  {
   "cell_type": "code",
   "execution_count": null,
   "metadata": {},
   "outputs": [],
   "source": []
  }
 ],
 "metadata": {
  "kernelspec": {
   "display_name": "Python 3",
   "language": "python",
   "name": "python3"
  },
  "language_info": {
   "codemirror_mode": {
    "name": "ipython",
    "version": 3
   },
   "file_extension": ".py",
   "mimetype": "text/x-python",
   "name": "python",
   "nbconvert_exporter": "python",
   "pygments_lexer": "ipython3",
   "version": "3.7.4"
  }
 },
 "nbformat": 4,
 "nbformat_minor": 2
}
